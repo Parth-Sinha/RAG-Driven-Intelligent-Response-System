{
 "cells": [
  {
   "cell_type": "code",
   "execution_count": 1,
   "id": "37d7c028",
   "metadata": {},
   "outputs": [],
   "source": [
    "from langchain import PromptTemplate\n",
    "from langchain.chains import RetrievalQA\n",
    "from langchain.embeddings import HuggingFaceEmbeddings\n",
    "from langchain.document_loaders import PyPDFLoader, DirectoryLoader\n",
    "from langchain.text_splitter import RecursiveCharacterTextSplitter\n",
    "from langchain.prompts import PromptTemplate\n",
    "from langchain.llms import CTransformers\n",
    "from langchain.vectorstores import Chroma"
   ]
  },
  {
   "cell_type": "code",
   "execution_count": 10,
   "id": "ddb4c4b1",
   "metadata": {},
   "outputs": [
    {
     "name": "stdout",
     "output_type": "stream",
     "text": [
      "Collecting langchain-community\n",
      "  Downloading langchain_community-0.2.6-py3-none-any.whl (2.2 MB)\n",
      "     ---------------------------------------- 2.2/2.2 MB 3.3 MB/s eta 0:00:00\n",
      "Requirement already satisfied: langchain<0.3.0,>=0.2.6 in c:\\users\\dange\\desktop\\rag_database\\jenv\\lib\\site-packages (from langchain-community) (0.2.6)\n",
      "Requirement already satisfied: langsmith<0.2.0,>=0.1.0 in c:\\users\\dange\\desktop\\rag_database\\jenv\\lib\\site-packages (from langchain-community) (0.1.83)\n",
      "Requirement already satisfied: tenacity!=8.4.0,<9.0.0,>=8.1.0 in c:\\users\\dange\\desktop\\rag_database\\jenv\\lib\\site-packages (from langchain-community) (8.4.2)\n",
      "Collecting dataclasses-json<0.7,>=0.5.7\n",
      "  Using cached dataclasses_json-0.6.7-py3-none-any.whl (28 kB)\n",
      "Requirement already satisfied: PyYAML>=5.3 in c:\\users\\dange\\desktop\\rag_database\\jenv\\lib\\site-packages (from langchain-community) (6.0.1)\n",
      "Requirement already satisfied: requests<3,>=2 in c:\\users\\dange\\desktop\\rag_database\\jenv\\lib\\site-packages (from langchain-community) (2.32.3)\n",
      "Requirement already satisfied: aiohttp<4.0.0,>=3.8.3 in c:\\users\\dange\\desktop\\rag_database\\jenv\\lib\\site-packages (from langchain-community) (3.9.5)\n",
      "Requirement already satisfied: langchain-core<0.3.0,>=0.2.10 in c:\\users\\dange\\desktop\\rag_database\\jenv\\lib\\site-packages (from langchain-community) (0.2.10)\n",
      "Requirement already satisfied: SQLAlchemy<3,>=1.4 in c:\\users\\dange\\desktop\\rag_database\\jenv\\lib\\site-packages (from langchain-community) (2.0.31)\n",
      "Requirement already satisfied: numpy<2,>=1 in c:\\users\\dange\\desktop\\rag_database\\jenv\\lib\\site-packages (from langchain-community) (1.26.4)\n",
      "Requirement already satisfied: yarl<2.0,>=1.0 in c:\\users\\dange\\desktop\\rag_database\\jenv\\lib\\site-packages (from aiohttp<4.0.0,>=3.8.3->langchain-community) (1.9.4)\n",
      "Requirement already satisfied: multidict<7.0,>=4.5 in c:\\users\\dange\\desktop\\rag_database\\jenv\\lib\\site-packages (from aiohttp<4.0.0,>=3.8.3->langchain-community) (6.0.5)\n",
      "Requirement already satisfied: aiosignal>=1.1.2 in c:\\users\\dange\\desktop\\rag_database\\jenv\\lib\\site-packages (from aiohttp<4.0.0,>=3.8.3->langchain-community) (1.3.1)\n",
      "Requirement already satisfied: attrs>=17.3.0 in c:\\users\\dange\\desktop\\rag_database\\jenv\\lib\\site-packages (from aiohttp<4.0.0,>=3.8.3->langchain-community) (23.2.0)\n",
      "Requirement already satisfied: async-timeout<5.0,>=4.0 in c:\\users\\dange\\desktop\\rag_database\\jenv\\lib\\site-packages (from aiohttp<4.0.0,>=3.8.3->langchain-community) (4.0.3)\n",
      "Requirement already satisfied: frozenlist>=1.1.1 in c:\\users\\dange\\desktop\\rag_database\\jenv\\lib\\site-packages (from aiohttp<4.0.0,>=3.8.3->langchain-community) (1.4.1)\n",
      "Collecting typing-inspect<1,>=0.4.0\n",
      "  Using cached typing_inspect-0.9.0-py3-none-any.whl (8.8 kB)\n",
      "Collecting marshmallow<4.0.0,>=3.18.0\n",
      "  Using cached marshmallow-3.21.3-py3-none-any.whl (49 kB)\n",
      "Requirement already satisfied: pydantic<3,>=1 in c:\\users\\dange\\desktop\\rag_database\\jenv\\lib\\site-packages (from langchain<0.3.0,>=0.2.6->langchain-community) (2.8.0)\n",
      "Requirement already satisfied: langchain-text-splitters<0.3.0,>=0.2.0 in c:\\users\\dange\\desktop\\rag_database\\jenv\\lib\\site-packages (from langchain<0.3.0,>=0.2.6->langchain-community) (0.2.2)\n",
      "Requirement already satisfied: packaging<25,>=23.2 in c:\\users\\dange\\desktop\\rag_database\\jenv\\lib\\site-packages (from langchain-core<0.3.0,>=0.2.10->langchain-community) (24.1)\n",
      "Requirement already satisfied: jsonpatch<2.0,>=1.33 in c:\\users\\dange\\desktop\\rag_database\\jenv\\lib\\site-packages (from langchain-core<0.3.0,>=0.2.10->langchain-community) (1.33)\n",
      "Requirement already satisfied: orjson<4.0.0,>=3.9.14 in c:\\users\\dange\\desktop\\rag_database\\jenv\\lib\\site-packages (from langsmith<0.2.0,>=0.1.0->langchain-community) (3.10.5)\n",
      "Requirement already satisfied: charset-normalizer<4,>=2 in c:\\users\\dange\\desktop\\rag_database\\jenv\\lib\\site-packages (from requests<3,>=2->langchain-community) (3.3.2)\n",
      "Requirement already satisfied: urllib3<3,>=1.21.1 in c:\\users\\dange\\desktop\\rag_database\\jenv\\lib\\site-packages (from requests<3,>=2->langchain-community) (2.2.2)\n",
      "Requirement already satisfied: idna<4,>=2.5 in c:\\users\\dange\\desktop\\rag_database\\jenv\\lib\\site-packages (from requests<3,>=2->langchain-community) (3.7)\n",
      "Requirement already satisfied: certifi>=2017.4.17 in c:\\users\\dange\\desktop\\rag_database\\jenv\\lib\\site-packages (from requests<3,>=2->langchain-community) (2024.6.2)\n",
      "Requirement already satisfied: greenlet!=0.4.17 in c:\\users\\dange\\desktop\\rag_database\\jenv\\lib\\site-packages (from SQLAlchemy<3,>=1.4->langchain-community) (3.0.3)\n",
      "Requirement already satisfied: typing-extensions>=4.6.0 in c:\\users\\dange\\desktop\\rag_database\\jenv\\lib\\site-packages (from SQLAlchemy<3,>=1.4->langchain-community) (4.12.2)\n",
      "Requirement already satisfied: jsonpointer>=1.9 in c:\\users\\dange\\desktop\\rag_database\\jenv\\lib\\site-packages (from jsonpatch<2.0,>=1.33->langchain-core<0.3.0,>=0.2.10->langchain-community) (3.0.0)\n",
      "Requirement already satisfied: annotated-types>=0.4.0 in c:\\users\\dange\\desktop\\rag_database\\jenv\\lib\\site-packages (from pydantic<3,>=1->langchain<0.3.0,>=0.2.6->langchain-community) (0.7.0)\n",
      "Requirement already satisfied: pydantic-core==2.20.0 in c:\\users\\dange\\desktop\\rag_database\\jenv\\lib\\site-packages (from pydantic<3,>=1->langchain<0.3.0,>=0.2.6->langchain-community) (2.20.0)\n",
      "Collecting mypy-extensions>=0.3.0\n",
      "  Using cached mypy_extensions-1.0.0-py3-none-any.whl (4.7 kB)\n",
      "Installing collected packages: mypy-extensions, marshmallow, typing-inspect, dataclasses-json, langchain-community\n",
      "Successfully installed dataclasses-json-0.6.7 langchain-community-0.2.6 marshmallow-3.21.3 mypy-extensions-1.0.0 typing-inspect-0.9.0\n"
     ]
    },
    {
     "name": "stderr",
     "output_type": "stream",
     "text": [
      "\n",
      "[notice] A new release of pip available: 22.2.2 -> 24.1.1\n",
      "[notice] To update, run: python.exe -m pip install --upgrade pip\n"
     ]
    }
   ],
   "source": [
    "!pip install -U langchain-community"
   ]
  },
  {
   "cell_type": "code",
   "execution_count": 8,
   "id": "e3309d9a",
   "metadata": {},
   "outputs": [
    {
     "name": "stdout",
     "output_type": "stream",
     "text": [
      "Collecting langchain\n",
      "  Downloading langchain-0.2.6-py3-none-any.whl (975 kB)\n",
      "     -------------------------------------- 975.5/975.5 kB 2.7 MB/s eta 0:00:00\n",
      "Collecting langsmith<0.2.0,>=0.1.17\n",
      "  Using cached langsmith-0.1.83-py3-none-any.whl (127 kB)\n",
      "Collecting pydantic<3,>=1\n",
      "  Using cached pydantic-2.8.0-py3-none-any.whl (423 kB)\n",
      "Requirement already satisfied: requests<3,>=2 in c:\\users\\dange\\desktop\\rag_database\\jenv\\lib\\site-packages (from langchain) (2.32.3)\n",
      "Collecting langchain-core<0.3.0,>=0.2.10\n",
      "  Using cached langchain_core-0.2.10-py3-none-any.whl (332 kB)\n",
      "Collecting langchain-text-splitters<0.3.0,>=0.2.0\n",
      "  Using cached langchain_text_splitters-0.2.2-py3-none-any.whl (25 kB)\n",
      "Requirement already satisfied: numpy<2,>=1 in c:\\users\\dange\\desktop\\rag_database\\jenv\\lib\\site-packages (from langchain) (1.26.4)\n",
      "Collecting SQLAlchemy<3,>=1.4\n",
      "  Using cached SQLAlchemy-2.0.31-cp310-cp310-win_amd64.whl (2.1 MB)\n",
      "Collecting aiohttp<4.0.0,>=3.8.3\n",
      "  Using cached aiohttp-3.9.5-cp310-cp310-win_amd64.whl (370 kB)\n",
      "Requirement already satisfied: PyYAML>=5.3 in c:\\users\\dange\\desktop\\rag_database\\jenv\\lib\\site-packages (from langchain) (6.0.1)\n",
      "Collecting async-timeout<5.0.0,>=4.0.0\n",
      "  Using cached async_timeout-4.0.3-py3-none-any.whl (5.7 kB)\n",
      "Collecting tenacity!=8.4.0,<9.0.0,>=8.1.0\n",
      "  Using cached tenacity-8.4.2-py3-none-any.whl (28 kB)\n",
      "Collecting frozenlist>=1.1.1\n",
      "  Using cached frozenlist-1.4.1-cp310-cp310-win_amd64.whl (50 kB)\n",
      "Collecting attrs>=17.3.0\n",
      "  Using cached attrs-23.2.0-py3-none-any.whl (60 kB)\n",
      "Collecting aiosignal>=1.1.2\n",
      "  Using cached aiosignal-1.3.1-py3-none-any.whl (7.6 kB)\n",
      "Collecting multidict<7.0,>=4.5\n",
      "  Using cached multidict-6.0.5-cp310-cp310-win_amd64.whl (28 kB)\n",
      "Collecting yarl<2.0,>=1.0\n",
      "  Using cached yarl-1.9.4-cp310-cp310-win_amd64.whl (76 kB)\n",
      "Requirement already satisfied: packaging<25,>=23.2 in c:\\users\\dange\\desktop\\rag_database\\jenv\\lib\\site-packages (from langchain-core<0.3.0,>=0.2.10->langchain) (24.1)\n",
      "Collecting jsonpatch<2.0,>=1.33\n",
      "  Using cached jsonpatch-1.33-py2.py3-none-any.whl (12 kB)\n",
      "Collecting orjson<4.0.0,>=3.9.14\n",
      "  Using cached orjson-3.10.5-cp310-none-win_amd64.whl (141 kB)\n",
      "Collecting pydantic-core==2.20.0\n",
      "  Using cached pydantic_core-2.20.0-cp310-none-win_amd64.whl (1.9 MB)\n",
      "Collecting annotated-types>=0.4.0\n",
      "  Using cached annotated_types-0.7.0-py3-none-any.whl (13 kB)\n",
      "Requirement already satisfied: typing-extensions>=4.6.1 in c:\\users\\dange\\desktop\\rag_database\\jenv\\lib\\site-packages (from pydantic<3,>=1->langchain) (4.12.2)\n",
      "Requirement already satisfied: urllib3<3,>=1.21.1 in c:\\users\\dange\\desktop\\rag_database\\jenv\\lib\\site-packages (from requests<3,>=2->langchain) (2.2.2)\n",
      "Requirement already satisfied: charset-normalizer<4,>=2 in c:\\users\\dange\\desktop\\rag_database\\jenv\\lib\\site-packages (from requests<3,>=2->langchain) (3.3.2)\n",
      "Requirement already satisfied: certifi>=2017.4.17 in c:\\users\\dange\\desktop\\rag_database\\jenv\\lib\\site-packages (from requests<3,>=2->langchain) (2024.6.2)\n",
      "Requirement already satisfied: idna<4,>=2.5 in c:\\users\\dange\\desktop\\rag_database\\jenv\\lib\\site-packages (from requests<3,>=2->langchain) (3.7)\n",
      "Collecting greenlet!=0.4.17\n",
      "  Using cached greenlet-3.0.3-cp310-cp310-win_amd64.whl (292 kB)\n",
      "Collecting jsonpointer>=1.9\n",
      "  Using cached jsonpointer-3.0.0-py2.py3-none-any.whl (7.6 kB)\n",
      "Installing collected packages: tenacity, pydantic-core, orjson, multidict, jsonpointer, greenlet, frozenlist, attrs, async-timeout, annotated-types, yarl, SQLAlchemy, pydantic, jsonpatch, aiosignal, langsmith, aiohttp, langchain-core, langchain-text-splitters, langchain\n",
      "Successfully installed SQLAlchemy-2.0.31 aiohttp-3.9.5 aiosignal-1.3.1 annotated-types-0.7.0 async-timeout-4.0.3 attrs-23.2.0 frozenlist-1.4.1 greenlet-3.0.3 jsonpatch-1.33 jsonpointer-3.0.0 langchain-0.2.6 langchain-core-0.2.10 langchain-text-splitters-0.2.2 langsmith-0.1.83 multidict-6.0.5 orjson-3.10.5 pydantic-2.8.0 pydantic-core-2.20.0 tenacity-8.4.2 yarl-1.9.4\n"
     ]
    },
    {
     "name": "stderr",
     "output_type": "stream",
     "text": [
      "\n",
      "[notice] A new release of pip available: 22.2.2 -> 24.1.1\n",
      "[notice] To update, run: python.exe -m pip install --upgrade pip\n"
     ]
    },
    {
     "name": "stdout",
     "output_type": "stream",
     "text": [
      "Collecting chromadb\n",
      "  Using cached chromadb-0.5.3-py3-none-any.whl (559 kB)\n",
      "Requirement already satisfied: tenacity>=8.2.3 in c:\\users\\dange\\desktop\\rag_database\\jenv\\lib\\site-packages (from chromadb) (8.4.2)\n",
      "Collecting fastapi>=0.95.2\n",
      "  Downloading fastapi-0.111.0-py3-none-any.whl (91 kB)\n",
      "     -------------------------------------- 92.0/92.0 kB 654.0 kB/s eta 0:00:00\n",
      "Collecting chroma-hnswlib==0.7.3\n",
      "  Downloading chroma_hnswlib-0.7.3-cp310-cp310-win_amd64.whl (150 kB)\n",
      "     -------------------------------------- 150.6/150.6 kB 1.5 MB/s eta 0:00:00\n",
      "Collecting opentelemetry-exporter-otlp-proto-grpc>=1.2.0\n",
      "  Downloading opentelemetry_exporter_otlp_proto_grpc-1.25.0-py3-none-any.whl (18 kB)\n",
      "Collecting build>=1.0.3\n",
      "  Downloading build-1.2.1-py3-none-any.whl (21 kB)\n",
      "Collecting mmh3>=4.0.1\n",
      "  Downloading mmh3-4.1.0-cp310-cp310-win_amd64.whl (31 kB)\n",
      "Requirement already satisfied: tqdm>=4.65.0 in c:\\users\\dange\\desktop\\rag_database\\jenv\\lib\\site-packages (from chromadb) (4.66.4)\n",
      "Collecting bcrypt>=4.0.1\n",
      "  Downloading bcrypt-4.1.3-cp39-abi3-win_amd64.whl (158 kB)\n",
      "     -------------------------------------- 158.1/158.1 kB 1.6 MB/s eta 0:00:00\n",
      "Collecting opentelemetry-api>=1.2.0\n",
      "  Downloading opentelemetry_api-1.25.0-py3-none-any.whl (59 kB)\n",
      "     ---------------------------------------- 59.9/59.9 kB 3.1 MB/s eta 0:00:00\n",
      "Requirement already satisfied: tokenizers>=0.13.2 in c:\\users\\dange\\desktop\\rag_database\\jenv\\lib\\site-packages (from chromadb) (0.19.1)\n",
      "Collecting posthog>=2.4.0\n",
      "  Downloading posthog-3.5.0-py2.py3-none-any.whl (41 kB)\n",
      "     ---------------------------------------- 41.3/41.3 kB 1.9 MB/s eta 0:00:00\n",
      "Collecting pypika>=0.48.9\n",
      "  Using cached PyPika-0.48.9.tar.gz (67 kB)\n",
      "  Installing build dependencies: started\n",
      "  Installing build dependencies: finished with status 'done'\n",
      "  Getting requirements to build wheel: started\n",
      "  Getting requirements to build wheel: finished with status 'done'\n",
      "  Preparing metadata (pyproject.toml): started\n",
      "  Preparing metadata (pyproject.toml): finished with status 'done'\n",
      "Collecting onnxruntime>=1.14.1\n",
      "  Downloading onnxruntime-1.18.1-cp310-cp310-win_amd64.whl (5.6 MB)\n",
      "     ---------------------------------------- 5.6/5.6 MB 13.7 MB/s eta 0:00:00\n",
      "Collecting overrides>=7.3.1\n",
      "  Downloading overrides-7.7.0-py3-none-any.whl (17 kB)\n",
      "Collecting opentelemetry-instrumentation-fastapi>=0.41b0\n",
      "  Downloading opentelemetry_instrumentation_fastapi-0.46b0-py3-none-any.whl (11 kB)\n",
      "Collecting opentelemetry-sdk>=1.2.0\n",
      "  Downloading opentelemetry_sdk-1.25.0-py3-none-any.whl (107 kB)\n",
      "     -------------------------------------- 107.0/107.0 kB 6.5 MB/s eta 0:00:00\n",
      "Collecting kubernetes>=28.1.0\n",
      "  Downloading kubernetes-30.1.0-py2.py3-none-any.whl (1.7 MB)\n",
      "     ---------------------------------------- 1.7/1.7 MB 27.4 MB/s eta 0:00:00\n",
      "Collecting grpcio>=1.58.0\n",
      "  Downloading grpcio-1.64.1-cp310-cp310-win_amd64.whl (4.1 MB)\n",
      "     ---------------------------------------- 4.1/4.1 MB 10.9 MB/s eta 0:00:00\n",
      "Collecting uvicorn[standard]>=0.18.3\n",
      "  Downloading uvicorn-0.30.1-py3-none-any.whl (62 kB)\n",
      "     ---------------------------------------- 62.4/62.4 kB ? eta 0:00:00\n",
      "Collecting typer>=0.9.0\n",
      "  Downloading typer-0.12.3-py3-none-any.whl (47 kB)\n",
      "     ---------------------------------------- 47.2/47.2 kB ? eta 0:00:00\n",
      "Requirement already satisfied: requests>=2.28 in c:\\users\\dange\\desktop\\rag_database\\jenv\\lib\\site-packages (from chromadb) (2.32.3)\n",
      "Requirement already satisfied: typing-extensions>=4.5.0 in c:\\users\\dange\\desktop\\rag_database\\jenv\\lib\\site-packages (from chromadb) (4.12.2)\n",
      "Collecting importlib-resources\n",
      "  Downloading importlib_resources-6.4.0-py3-none-any.whl (38 kB)\n",
      "Requirement already satisfied: numpy<2.0.0,>=1.22.5 in c:\\users\\dange\\desktop\\rag_database\\jenv\\lib\\site-packages (from chromadb) (1.26.4)\n",
      "Requirement already satisfied: pydantic>=1.9 in c:\\users\\dange\\desktop\\rag_database\\jenv\\lib\\site-packages (from chromadb) (2.8.0)\n",
      "Requirement already satisfied: orjson>=3.9.12 in c:\\users\\dange\\desktop\\rag_database\\jenv\\lib\\site-packages (from chromadb) (3.10.5)\n",
      "Collecting httpx>=0.27.0\n",
      "  Downloading httpx-0.27.0-py3-none-any.whl (75 kB)\n",
      "     ---------------------------------------- 75.6/75.6 kB 4.4 MB/s eta 0:00:00\n",
      "Requirement already satisfied: PyYAML>=6.0.0 in c:\\users\\dange\\desktop\\rag_database\\jenv\\lib\\site-packages (from chromadb) (6.0.1)\n",
      "Collecting tomli>=1.1.0\n",
      "  Downloading tomli-2.0.1-py3-none-any.whl (12 kB)\n",
      "Requirement already satisfied: packaging>=19.1 in c:\\users\\dange\\desktop\\rag_database\\jenv\\lib\\site-packages (from build>=1.0.3->chromadb) (24.1)\n",
      "Requirement already satisfied: colorama in c:\\users\\dange\\desktop\\rag_database\\jenv\\lib\\site-packages (from build>=1.0.3->chromadb) (0.4.6)\n",
      "Collecting pyproject_hooks\n",
      "  Downloading pyproject_hooks-1.1.0-py3-none-any.whl (9.2 kB)\n",
      "Collecting fastapi-cli>=0.0.2\n",
      "  Downloading fastapi_cli-0.0.4-py3-none-any.whl (9.5 kB)\n",
      "Collecting ujson!=4.0.2,!=4.1.0,!=4.2.0,!=4.3.0,!=5.0.0,!=5.1.0,>=4.0.1\n",
      "  Downloading ujson-5.10.0-cp310-cp310-win_amd64.whl (42 kB)\n",
      "     ---------------------------------------- 42.1/42.1 kB 2.1 MB/s eta 0:00:00\n",
      "Collecting email_validator>=2.0.0\n",
      "  Downloading email_validator-2.2.0-py3-none-any.whl (33 kB)\n",
      "Requirement already satisfied: jinja2>=2.11.2 in c:\\users\\dange\\desktop\\rag_database\\jenv\\lib\\site-packages (from fastapi>=0.95.2->chromadb) (3.1.4)\n",
      "Collecting starlette<0.38.0,>=0.37.2\n",
      "  Downloading starlette-0.37.2-py3-none-any.whl (71 kB)\n",
      "     ---------------------------------------- 71.9/71.9 kB ? eta 0:00:00\n",
      "Collecting python-multipart>=0.0.7\n",
      "  Downloading python_multipart-0.0.9-py3-none-any.whl (22 kB)\n",
      "Collecting anyio\n",
      "  Downloading anyio-4.4.0-py3-none-any.whl (86 kB)\n",
      "     ---------------------------------------- 86.8/86.8 kB 4.8 MB/s eta 0:00:00\n",
      "Requirement already satisfied: idna in c:\\users\\dange\\desktop\\rag_database\\jenv\\lib\\site-packages (from httpx>=0.27.0->chromadb) (3.7)\n",
      "Collecting httpcore==1.*\n",
      "  Downloading httpcore-1.0.5-py3-none-any.whl (77 kB)\n",
      "     ---------------------------------------- 77.9/77.9 kB 4.5 MB/s eta 0:00:00\n",
      "Collecting sniffio\n",
      "  Downloading sniffio-1.3.1-py3-none-any.whl (10 kB)\n",
      "Requirement already satisfied: certifi in c:\\users\\dange\\desktop\\rag_database\\jenv\\lib\\site-packages (from httpx>=0.27.0->chromadb) (2024.6.2)\n",
      "Collecting h11<0.15,>=0.13\n",
      "  Downloading h11-0.14.0-py3-none-any.whl (58 kB)\n",
      "     ---------------------------------------- 58.3/58.3 kB 3.2 MB/s eta 0:00:00\n",
      "Collecting requests-oauthlib\n",
      "  Downloading requests_oauthlib-2.0.0-py2.py3-none-any.whl (24 kB)\n",
      "Collecting oauthlib>=3.2.2\n",
      "  Downloading oauthlib-3.2.2-py3-none-any.whl (151 kB)\n",
      "     -------------------------------------- 151.7/151.7 kB 8.8 MB/s eta 0:00:00\n",
      "Requirement already satisfied: python-dateutil>=2.5.3 in c:\\users\\dange\\desktop\\rag_database\\jenv\\lib\\site-packages (from kubernetes>=28.1.0->chromadb) (2.9.0.post0)\n",
      "Collecting google-auth>=1.0.1\n",
      "  Downloading google_auth-2.31.0-py2.py3-none-any.whl (194 kB)\n",
      "     ------------------------------------- 194.6/194.6 kB 11.5 MB/s eta 0:00:00\n",
      "Collecting websocket-client!=0.40.0,!=0.41.*,!=0.42.*,>=0.32.0\n",
      "  Downloading websocket_client-1.8.0-py3-none-any.whl (58 kB)\n",
      "     ---------------------------------------- 58.8/58.8 kB ? eta 0:00:00\n",
      "Requirement already satisfied: urllib3>=1.24.2 in c:\\users\\dange\\desktop\\rag_database\\jenv\\lib\\site-packages (from kubernetes>=28.1.0->chromadb) (2.2.2)\n",
      "Requirement already satisfied: six>=1.9.0 in c:\\users\\dange\\desktop\\rag_database\\jenv\\lib\\site-packages (from kubernetes>=28.1.0->chromadb) (1.16.0)\n",
      "Collecting flatbuffers\n",
      "  Downloading flatbuffers-24.3.25-py2.py3-none-any.whl (26 kB)\n",
      "Collecting protobuf\n",
      "  Downloading protobuf-5.27.2-cp310-abi3-win_amd64.whl (426 kB)\n",
      "     ------------------------------------- 426.9/426.9 kB 13.4 MB/s eta 0:00:00\n",
      "Requirement already satisfied: sympy in c:\\users\\dange\\desktop\\rag_database\\jenv\\lib\\site-packages (from onnxruntime>=1.14.1->chromadb) (1.12.1)\n",
      "Collecting coloredlogs\n",
      "  Using cached coloredlogs-15.0.1-py2.py3-none-any.whl (46 kB)\n",
      "Collecting importlib-metadata<=7.1,>=6.0\n",
      "  Downloading importlib_metadata-7.1.0-py3-none-any.whl (24 kB)\n",
      "Collecting deprecated>=1.2.6\n",
      "  Downloading Deprecated-1.2.14-py2.py3-none-any.whl (9.6 kB)\n",
      "Collecting opentelemetry-proto==1.25.0\n",
      "  Downloading opentelemetry_proto-1.25.0-py3-none-any.whl (52 kB)\n",
      "     ---------------------------------------- 52.5/52.5 kB 2.6 MB/s eta 0:00:00\n",
      "Collecting googleapis-common-protos~=1.52\n",
      "  Downloading googleapis_common_protos-1.63.2-py2.py3-none-any.whl (220 kB)\n",
      "     -------------------------------------- 220.0/220.0 kB 6.8 MB/s eta 0:00:00\n",
      "Collecting opentelemetry-exporter-otlp-proto-common==1.25.0\n",
      "  Downloading opentelemetry_exporter_otlp_proto_common-1.25.0-py3-none-any.whl (17 kB)\n",
      "Collecting protobuf\n",
      "  Downloading protobuf-4.25.3-cp310-abi3-win_amd64.whl (413 kB)\n",
      "     ------------------------------------- 413.4/413.4 kB 12.6 MB/s eta 0:00:00\n",
      "Collecting opentelemetry-util-http==0.46b0\n",
      "  Downloading opentelemetry_util_http-0.46b0-py3-none-any.whl (6.9 kB)\n",
      "Collecting opentelemetry-semantic-conventions==0.46b0\n",
      "  Downloading opentelemetry_semantic_conventions-0.46b0-py3-none-any.whl (130 kB)\n",
      "     -------------------------------------- 130.5/130.5 kB 8.0 MB/s eta 0:00:00\n",
      "Collecting opentelemetry-instrumentation-asgi==0.46b0\n",
      "  Downloading opentelemetry_instrumentation_asgi-0.46b0-py3-none-any.whl (14 kB)\n",
      "Collecting opentelemetry-instrumentation==0.46b0\n",
      "  Downloading opentelemetry_instrumentation-0.46b0-py3-none-any.whl (29 kB)\n",
      "Collecting wrapt<2.0.0,>=1.0.0\n",
      "  Downloading wrapt-1.16.0-cp310-cp310-win_amd64.whl (37 kB)\n",
      "Requirement already satisfied: setuptools>=16.0 in c:\\users\\dange\\desktop\\rag_database\\jenv\\lib\\site-packages (from opentelemetry-instrumentation==0.46b0->opentelemetry-instrumentation-fastapi>=0.41b0->chromadb) (63.2.0)\n",
      "Collecting asgiref~=3.0\n",
      "  Using cached asgiref-3.8.1-py3-none-any.whl (23 kB)\n",
      "Collecting backoff>=1.10.0\n",
      "  Downloading backoff-2.2.1-py3-none-any.whl (15 kB)\n",
      "Collecting monotonic>=1.5\n",
      "  Downloading monotonic-1.6-py2.py3-none-any.whl (8.2 kB)\n",
      "Requirement already satisfied: annotated-types>=0.4.0 in c:\\users\\dange\\desktop\\rag_database\\jenv\\lib\\site-packages (from pydantic>=1.9->chromadb) (0.7.0)\n",
      "Requirement already satisfied: pydantic-core==2.20.0 in c:\\users\\dange\\desktop\\rag_database\\jenv\\lib\\site-packages (from pydantic>=1.9->chromadb) (2.20.0)\n",
      "Requirement already satisfied: charset-normalizer<4,>=2 in c:\\users\\dange\\desktop\\rag_database\\jenv\\lib\\site-packages (from requests>=2.28->chromadb) (3.3.2)\n",
      "Requirement already satisfied: huggingface-hub<1.0,>=0.16.4 in c:\\users\\dange\\desktop\\rag_database\\jenv\\lib\\site-packages (from tokenizers>=0.13.2->chromadb) (0.23.4)\n",
      "Collecting rich>=10.11.0\n",
      "  Downloading rich-13.7.1-py3-none-any.whl (240 kB)\n",
      "     ------------------------------------- 240.7/240.7 kB 15.4 MB/s eta 0:00:00\n",
      "Collecting shellingham>=1.3.0\n",
      "  Downloading shellingham-1.5.4-py2.py3-none-any.whl (9.8 kB)\n",
      "Collecting click>=8.0.0\n",
      "  Using cached click-8.1.7-py3-none-any.whl (97 kB)\n",
      "Collecting python-dotenv>=0.13\n",
      "  Downloading python_dotenv-1.0.1-py3-none-any.whl (19 kB)\n",
      "Collecting httptools>=0.5.0\n",
      "  Downloading httptools-0.6.1-cp310-cp310-win_amd64.whl (58 kB)\n",
      "     ---------------------------------------- 58.2/58.2 kB ? eta 0:00:00\n",
      "Collecting watchfiles>=0.13\n",
      "  Downloading watchfiles-0.22.0-cp310-none-win_amd64.whl (282 kB)\n",
      "     -------------------------------------- 282.1/282.1 kB 5.8 MB/s eta 0:00:00\n",
      "Collecting websockets>=10.4\n",
      "  Downloading websockets-12.0-cp310-cp310-win_amd64.whl (124 kB)\n",
      "     -------------------------------------- 125.0/125.0 kB 3.7 MB/s eta 0:00:00\n",
      "Collecting dnspython>=2.0.0\n",
      "  Downloading dnspython-2.6.1-py3-none-any.whl (307 kB)\n",
      "     ------------------------------------- 307.7/307.7 kB 18.6 MB/s eta 0:00:00\n",
      "Collecting pyasn1-modules>=0.2.1\n",
      "  Downloading pyasn1_modules-0.4.0-py3-none-any.whl (181 kB)\n",
      "     ------------------------------------- 181.2/181.2 kB 10.7 MB/s eta 0:00:00\n",
      "Collecting cachetools<6.0,>=2.0.0\n",
      "  Downloading cachetools-5.3.3-py3-none-any.whl (9.3 kB)\n",
      "Collecting rsa<5,>=3.1.4\n",
      "  Downloading rsa-4.9-py3-none-any.whl (34 kB)\n",
      "Requirement already satisfied: filelock in c:\\users\\dange\\desktop\\rag_database\\jenv\\lib\\site-packages (from huggingface-hub<1.0,>=0.16.4->tokenizers>=0.13.2->chromadb) (3.15.4)\n",
      "Requirement already satisfied: fsspec>=2023.5.0 in c:\\users\\dange\\desktop\\rag_database\\jenv\\lib\\site-packages (from huggingface-hub<1.0,>=0.16.4->tokenizers>=0.13.2->chromadb) (2024.6.1)\n",
      "Collecting zipp>=0.5\n",
      "  Downloading zipp-3.19.2-py3-none-any.whl (9.0 kB)\n",
      "Requirement already satisfied: MarkupSafe>=2.0 in c:\\users\\dange\\desktop\\rag_database\\jenv\\lib\\site-packages (from jinja2>=2.11.2->fastapi>=0.95.2->chromadb) (2.1.5)\n",
      "Requirement already satisfied: pygments<3.0.0,>=2.13.0 in c:\\users\\dange\\desktop\\rag_database\\jenv\\lib\\site-packages (from rich>=10.11.0->typer>=0.9.0->chromadb) (2.18.0)\n",
      "Collecting markdown-it-py>=2.2.0\n",
      "  Downloading markdown_it_py-3.0.0-py3-none-any.whl (87 kB)\n",
      "     ---------------------------------------- 87.5/87.5 kB ? eta 0:00:00\n",
      "Requirement already satisfied: exceptiongroup>=1.0.2 in c:\\users\\dange\\desktop\\rag_database\\jenv\\lib\\site-packages (from anyio->httpx>=0.27.0->chromadb) (1.2.1)\n",
      "Collecting humanfriendly>=9.1\n",
      "  Using cached humanfriendly-10.0-py2.py3-none-any.whl (86 kB)\n",
      "Requirement already satisfied: mpmath<1.4.0,>=1.1.0 in c:\\users\\dange\\desktop\\rag_database\\jenv\\lib\\site-packages (from sympy->onnxruntime>=1.14.1->chromadb) (1.3.0)\n",
      "Collecting pyreadline3\n",
      "  Using cached pyreadline3-3.4.1-py3-none-any.whl (95 kB)\n",
      "Collecting mdurl~=0.1\n",
      "  Downloading mdurl-0.1.2-py3-none-any.whl (10.0 kB)\n",
      "Collecting pyasn1<0.7.0,>=0.4.6\n",
      "  Downloading pyasn1-0.6.0-py2.py3-none-any.whl (85 kB)\n",
      "     ---------------------------------------- 85.3/85.3 kB 4.7 MB/s eta 0:00:00\n",
      "Building wheels for collected packages: pypika\n",
      "  Building wheel for pypika (pyproject.toml): started\n",
      "  Building wheel for pypika (pyproject.toml): finished with status 'done'\n",
      "  Created wheel for pypika: filename=PyPika-0.48.9-py2.py3-none-any.whl size=53835 sha256=24e6cf6ae02b24ba4ae4bfc2d05538748615d7f4f2d9cdf63e743339369d91ed\n",
      "  Stored in directory: c:\\users\\dange\\appdata\\local\\pip\\cache\\wheels\\e1\\26\\51\\d0bffb3d2fd82256676d7ad3003faea3bd6dddc9577af665f4\n",
      "Successfully built pypika\n",
      "Installing collected packages: pyreadline3, pypika, monotonic, mmh3, flatbuffers, zipp, wrapt, websockets, websocket-client, ujson, tomli, sniffio, shellingham, python-multipart, python-dotenv, pyproject_hooks, pyasn1, protobuf, overrides, opentelemetry-util-http, oauthlib, mdurl, importlib-resources, humanfriendly, httptools, h11, grpcio, dnspython, click, chroma-hnswlib, cachetools, bcrypt, backoff, asgiref, uvicorn, rsa, requests-oauthlib, pyasn1-modules, posthog, opentelemetry-proto, markdown-it-py, importlib-metadata, httpcore, googleapis-common-protos, email_validator, deprecated, coloredlogs, build, anyio, watchfiles, starlette, rich, opentelemetry-exporter-otlp-proto-common, opentelemetry-api, onnxruntime, httpx, google-auth, typer, opentelemetry-semantic-conventions, opentelemetry-instrumentation, kubernetes, opentelemetry-sdk, opentelemetry-instrumentation-asgi, fastapi-cli, opentelemetry-instrumentation-fastapi, opentelemetry-exporter-otlp-proto-grpc, fastapi, chromadb\n",
      "Successfully installed anyio-4.4.0 asgiref-3.8.1 backoff-2.2.1 bcrypt-4.1.3 build-1.2.1 cachetools-5.3.3 chroma-hnswlib-0.7.3 chromadb-0.5.3 click-8.1.7 coloredlogs-15.0.1 deprecated-1.2.14 dnspython-2.6.1 email_validator-2.2.0 fastapi-0.111.0 fastapi-cli-0.0.4 flatbuffers-24.3.25 google-auth-2.31.0 googleapis-common-protos-1.63.2 grpcio-1.64.1 h11-0.14.0 httpcore-1.0.5 httptools-0.6.1 httpx-0.27.0 humanfriendly-10.0 importlib-metadata-7.1.0 importlib-resources-6.4.0 kubernetes-30.1.0 markdown-it-py-3.0.0 mdurl-0.1.2 mmh3-4.1.0 monotonic-1.6 oauthlib-3.2.2 onnxruntime-1.18.1 opentelemetry-api-1.25.0 opentelemetry-exporter-otlp-proto-common-1.25.0 opentelemetry-exporter-otlp-proto-grpc-1.25.0 opentelemetry-instrumentation-0.46b0 opentelemetry-instrumentation-asgi-0.46b0 opentelemetry-instrumentation-fastapi-0.46b0 opentelemetry-proto-1.25.0 opentelemetry-sdk-1.25.0 opentelemetry-semantic-conventions-0.46b0 opentelemetry-util-http-0.46b0 overrides-7.7.0 posthog-3.5.0 protobuf-4.25.3 pyasn1-0.6.0 pyasn1-modules-0.4.0 pypika-0.48.9 pyproject_hooks-1.1.0 pyreadline3-3.4.1 python-dotenv-1.0.1 python-multipart-0.0.9 requests-oauthlib-2.0.0 rich-13.7.1 rsa-4.9 shellingham-1.5.4 sniffio-1.3.1 starlette-0.37.2 tomli-2.0.1 typer-0.12.3 ujson-5.10.0 uvicorn-0.30.1 watchfiles-0.22.0 websocket-client-1.8.0 websockets-12.0 wrapt-1.16.0 zipp-3.19.2\n"
     ]
    },
    {
     "name": "stderr",
     "output_type": "stream",
     "text": [
      "\n",
      "[notice] A new release of pip available: 22.2.2 -> 24.1.1\n",
      "[notice] To update, run: python.exe -m pip install --upgrade pip\n"
     ]
    },
    {
     "name": "stdout",
     "output_type": "stream",
     "text": [
      "Collecting ctransformers"
     ]
    },
    {
     "name": "stderr",
     "output_type": "stream",
     "text": [
      "\n",
      "[notice] A new release of pip available: 22.2.2 -> 24.1.1\n",
      "[notice] To update, run: python.exe -m pip install --upgrade pip\n"
     ]
    },
    {
     "name": "stdout",
     "output_type": "stream",
     "text": [
      "\n",
      "  Downloading ctransformers-0.2.27-py3-none-any.whl (9.9 MB)\n",
      "     ---------------------------------------- 9.9/9.9 MB 7.2 MB/s eta 0:00:00\n",
      "Requirement already satisfied: huggingface-hub in c:\\users\\dange\\desktop\\rag_database\\jenv\\lib\\site-packages (from ctransformers) (0.23.4)\n",
      "Collecting py-cpuinfo<10.0.0,>=9.0.0\n",
      "  Downloading py_cpuinfo-9.0.0-py3-none-any.whl (22 kB)\n",
      "Requirement already satisfied: pyyaml>=5.1 in c:\\users\\dange\\desktop\\rag_database\\jenv\\lib\\site-packages (from huggingface-hub->ctransformers) (6.0.1)\n",
      "Requirement already satisfied: typing-extensions>=3.7.4.3 in c:\\users\\dange\\desktop\\rag_database\\jenv\\lib\\site-packages (from huggingface-hub->ctransformers) (4.12.2)\n",
      "Requirement already satisfied: filelock in c:\\users\\dange\\desktop\\rag_database\\jenv\\lib\\site-packages (from huggingface-hub->ctransformers) (3.15.4)\n",
      "Requirement already satisfied: tqdm>=4.42.1 in c:\\users\\dange\\desktop\\rag_database\\jenv\\lib\\site-packages (from huggingface-hub->ctransformers) (4.66.4)\n",
      "Requirement already satisfied: packaging>=20.9 in c:\\users\\dange\\desktop\\rag_database\\jenv\\lib\\site-packages (from huggingface-hub->ctransformers) (24.1)\n",
      "Requirement already satisfied: fsspec>=2023.5.0 in c:\\users\\dange\\desktop\\rag_database\\jenv\\lib\\site-packages (from huggingface-hub->ctransformers) (2024.6.1)\n",
      "Requirement already satisfied: requests in c:\\users\\dange\\desktop\\rag_database\\jenv\\lib\\site-packages (from huggingface-hub->ctransformers) (2.32.3)\n",
      "Requirement already satisfied: colorama in c:\\users\\dange\\desktop\\rag_database\\jenv\\lib\\site-packages (from tqdm>=4.42.1->huggingface-hub->ctransformers) (0.4.6)\n",
      "Requirement already satisfied: urllib3<3,>=1.21.1 in c:\\users\\dange\\desktop\\rag_database\\jenv\\lib\\site-packages (from requests->huggingface-hub->ctransformers) (2.2.2)\n",
      "Requirement already satisfied: charset-normalizer<4,>=2 in c:\\users\\dange\\desktop\\rag_database\\jenv\\lib\\site-packages (from requests->huggingface-hub->ctransformers) (3.3.2)\n",
      "Requirement already satisfied: idna<4,>=2.5 in c:\\users\\dange\\desktop\\rag_database\\jenv\\lib\\site-packages (from requests->huggingface-hub->ctransformers) (3.7)\n",
      "Requirement already satisfied: certifi>=2017.4.17 in c:\\users\\dange\\desktop\\rag_database\\jenv\\lib\\site-packages (from requests->huggingface-hub->ctransformers) (2024.6.2)\n",
      "Installing collected packages: py-cpuinfo, ctransformers\n",
      "Successfully installed ctransformers-0.2.27 py-cpuinfo-9.0.0\n",
      "Collecting pypdf2\n",
      "  Downloading pypdf2-3.0.1-py3-none-any.whl (232 kB)\n",
      "     -------------------------------------- 232.6/232.6 kB 1.6 MB/s eta 0:00:00\n",
      "Installing collected packages: pypdf2\n",
      "Successfully installed pypdf2-3.0.1\n"
     ]
    },
    {
     "name": "stderr",
     "output_type": "stream",
     "text": [
      "\n",
      "[notice] A new release of pip available: 22.2.2 -> 24.1.1\n",
      "[notice] To update, run: python.exe -m pip install --upgrade pip\n"
     ]
    },
    {
     "name": "stdout",
     "output_type": "stream",
     "text": [
      "Requirement already satisfied: langchain in c:\\users\\dange\\desktop\\rag_database\\jenv\\lib\\site-packages (0.2.6)\n",
      "Requirement already satisfied: chromadb in c:\\users\\dange\\desktop\\rag_database\\jenv\\lib\\site-packages (0.5.3)\n",
      "Requirement already satisfied: ctransformers in c:\\users\\dange\\desktop\\rag_database\\jenv\\lib\\site-packages (0.2.27)\n",
      "Requirement already satisfied: pypdf2 in c:\\users\\dange\\desktop\\rag_database\\jenv\\lib\\site-packages (3.0.1)\n",
      "Requirement already satisfied: sentence-transformers in c:\\users\\dange\\desktop\\rag_database\\jenv\\lib\\site-packages (3.0.1)\n",
      "Requirement already satisfied: huggingface-hub in c:\\users\\dange\\desktop\\rag_database\\jenv\\lib\\site-packages (0.23.4)\n",
      "Requirement already satisfied: SQLAlchemy<3,>=1.4 in c:\\users\\dange\\desktop\\rag_database\\jenv\\lib\\site-packages (from langchain) (2.0.31)\n",
      "Requirement already satisfied: numpy<2,>=1 in c:\\users\\dange\\desktop\\rag_database\\jenv\\lib\\site-packages (from langchain) (1.26.4)\n",
      "Requirement already satisfied: tenacity!=8.4.0,<9.0.0,>=8.1.0 in c:\\users\\dange\\desktop\\rag_database\\jenv\\lib\\site-packages (from langchain) (8.4.2)\n",
      "Requirement already satisfied: langchain-text-splitters<0.3.0,>=0.2.0 in c:\\users\\dange\\desktop\\rag_database\\jenv\\lib\\site-packages (from langchain) (0.2.2)\n",
      "Requirement already satisfied: langsmith<0.2.0,>=0.1.17 in c:\\users\\dange\\desktop\\rag_database\\jenv\\lib\\site-packages (from langchain) (0.1.83)\n",
      "Requirement already satisfied: PyYAML>=5.3 in c:\\users\\dange\\desktop\\rag_database\\jenv\\lib\\site-packages (from langchain) (6.0.1)\n",
      "Requirement already satisfied: async-timeout<5.0.0,>=4.0.0 in c:\\users\\dange\\desktop\\rag_database\\jenv\\lib\\site-packages (from langchain) (4.0.3)\n",
      "Requirement already satisfied: aiohttp<4.0.0,>=3.8.3 in c:\\users\\dange\\desktop\\rag_database\\jenv\\lib\\site-packages (from langchain) (3.9.5)\n",
      "Requirement already satisfied: requests<3,>=2 in c:\\users\\dange\\desktop\\rag_database\\jenv\\lib\\site-packages (from langchain) (2.32.3)\n",
      "Requirement already satisfied: langchain-core<0.3.0,>=0.2.10 in c:\\users\\dange\\desktop\\rag_database\\jenv\\lib\\site-packages (from langchain) (0.2.10)\n",
      "Requirement already satisfied: pydantic<3,>=1 in c:\\users\\dange\\desktop\\rag_database\\jenv\\lib\\site-packages (from langchain) (2.8.0)\n",
      "Requirement already satisfied: typing-extensions>=4.5.0 in c:\\users\\dange\\desktop\\rag_database\\jenv\\lib\\site-packages (from chromadb) (4.12.2)\n",
      "Requirement already satisfied: chroma-hnswlib==0.7.3 in c:\\users\\dange\\desktop\\rag_database\\jenv\\lib\\site-packages (from chromadb) (0.7.3)\n",
      "Requirement already satisfied: httpx>=0.27.0 in c:\\users\\dange\\desktop\\rag_database\\jenv\\lib\\site-packages (from chromadb) (0.27.0)\n",
      "Requirement already satisfied: grpcio>=1.58.0 in c:\\users\\dange\\desktop\\rag_database\\jenv\\lib\\site-packages (from chromadb) (1.64.1)\n",
      "Requirement already satisfied: kubernetes>=28.1.0 in c:\\users\\dange\\desktop\\rag_database\\jenv\\lib\\site-packages (from chromadb) (30.1.0)\n",
      "Requirement already satisfied: onnxruntime>=1.14.1 in c:\\users\\dange\\desktop\\rag_database\\jenv\\lib\\site-packages (from chromadb) (1.18.1)\n",
      "Requirement already satisfied: mmh3>=4.0.1 in c:\\users\\dange\\desktop\\rag_database\\jenv\\lib\\site-packages (from chromadb) (4.1.0)\n",
      "Requirement already satisfied: build>=1.0.3 in c:\\users\\dange\\desktop\\rag_database\\jenv\\lib\\site-packages (from chromadb) (1.2.1)\n",
      "Requirement already satisfied: tokenizers>=0.13.2 in c:\\users\\dange\\desktop\\rag_database\\jenv\\lib\\site-packages (from chromadb) (0.19.1)\n",
      "Requirement already satisfied: importlib-resources in c:\\users\\dange\\desktop\\rag_database\\jenv\\lib\\site-packages (from chromadb) (6.4.0)\n",
      "Requirement already satisfied: bcrypt>=4.0.1 in c:\\users\\dange\\desktop\\rag_database\\jenv\\lib\\site-packages (from chromadb) (4.1.3)\n",
      "Requirement already satisfied: posthog>=2.4.0 in c:\\users\\dange\\desktop\\rag_database\\jenv\\lib\\site-packages (from chromadb) (3.5.0)\n",
      "Requirement already satisfied: opentelemetry-sdk>=1.2.0 in c:\\users\\dange\\desktop\\rag_database\\jenv\\lib\\site-packages (from chromadb) (1.25.0)\n",
      "Requirement already satisfied: opentelemetry-api>=1.2.0 in c:\\users\\dange\\desktop\\rag_database\\jenv\\lib\\site-packages (from chromadb) (1.25.0)\n",
      "Requirement already satisfied: orjson>=3.9.12 in c:\\users\\dange\\desktop\\rag_database\\jenv\\lib\\site-packages (from chromadb) (3.10.5)\n",
      "Requirement already satisfied: tqdm>=4.65.0 in c:\\users\\dange\\desktop\\rag_database\\jenv\\lib\\site-packages (from chromadb) (4.66.4)\n",
      "Requirement already satisfied: overrides>=7.3.1 in c:\\users\\dange\\desktop\\rag_database\\jenv\\lib\\site-packages (from chromadb) (7.7.0)\n",
      "Requirement already satisfied: opentelemetry-instrumentation-fastapi>=0.41b0 in c:\\users\\dange\\desktop\\rag_database\\jenv\\lib\\site-packages (from chromadb) (0.46b0)\n",
      "Requirement already satisfied: opentelemetry-exporter-otlp-proto-grpc>=1.2.0 in c:\\users\\dange\\desktop\\rag_database\\jenv\\lib\\site-packages (from chromadb) (1.25.0)\n",
      "Requirement already satisfied: fastapi>=0.95.2 in c:\\users\\dange\\desktop\\rag_database\\jenv\\lib\\site-packages (from chromadb) (0.111.0)\n",
      "Requirement already satisfied: typer>=0.9.0 in c:\\users\\dange\\desktop\\rag_database\\jenv\\lib\\site-packages (from chromadb) (0.12.3)\n",
      "Requirement already satisfied: uvicorn[standard]>=0.18.3 in c:\\users\\dange\\desktop\\rag_database\\jenv\\lib\\site-packages (from chromadb) (0.30.1)\n",
      "Requirement already satisfied: pypika>=0.48.9 in c:\\users\\dange\\desktop\\rag_database\\jenv\\lib\\site-packages (from chromadb) (0.48.9)\n",
      "Requirement already satisfied: py-cpuinfo<10.0.0,>=9.0.0 in c:\\users\\dange\\desktop\\rag_database\\jenv\\lib\\site-packages (from ctransformers) (9.0.0)\n",
      "Requirement already satisfied: Pillow in c:\\users\\dange\\desktop\\rag_database\\jenv\\lib\\site-packages (from sentence-transformers) (10.4.0)\n",
      "Requirement already satisfied: scikit-learn in c:\\users\\dange\\desktop\\rag_database\\jenv\\lib\\site-packages (from sentence-transformers) (1.5.0)\n",
      "Requirement already satisfied: torch>=1.11.0 in c:\\users\\dange\\desktop\\rag_database\\jenv\\lib\\site-packages (from sentence-transformers) (2.3.1)\n",
      "Requirement already satisfied: scipy in c:\\users\\dange\\desktop\\rag_database\\jenv\\lib\\site-packages (from sentence-transformers) (1.14.0)\n",
      "Requirement already satisfied: transformers<5.0.0,>=4.34.0 in c:\\users\\dange\\desktop\\rag_database\\jenv\\lib\\site-packages (from sentence-transformers) (4.42.3)\n",
      "Requirement already satisfied: filelock in c:\\users\\dange\\desktop\\rag_database\\jenv\\lib\\site-packages (from huggingface-hub) (3.15.4)\n",
      "Requirement already satisfied: packaging>=20.9 in c:\\users\\dange\\desktop\\rag_database\\jenv\\lib\\site-packages (from huggingface-hub) (24.1)\n",
      "Requirement already satisfied: fsspec>=2023.5.0 in c:\\users\\dange\\desktop\\rag_database\\jenv\\lib\\site-packages (from huggingface-hub) (2024.6.1)\n",
      "Requirement already satisfied: aiosignal>=1.1.2 in c:\\users\\dange\\desktop\\rag_database\\jenv\\lib\\site-packages (from aiohttp<4.0.0,>=3.8.3->langchain) (1.3.1)\n",
      "Requirement already satisfied: attrs>=17.3.0 in c:\\users\\dange\\desktop\\rag_database\\jenv\\lib\\site-packages (from aiohttp<4.0.0,>=3.8.3->langchain) (23.2.0)\n",
      "Requirement already satisfied: frozenlist>=1.1.1 in c:\\users\\dange\\desktop\\rag_database\\jenv\\lib\\site-packages (from aiohttp<4.0.0,>=3.8.3->langchain) (1.4.1)\n",
      "Requirement already satisfied: yarl<2.0,>=1.0 in c:\\users\\dange\\desktop\\rag_database\\jenv\\lib\\site-packages (from aiohttp<4.0.0,>=3.8.3->langchain) (1.9.4)\n",
      "Requirement already satisfied: multidict<7.0,>=4.5 in c:\\users\\dange\\desktop\\rag_database\\jenv\\lib\\site-packages (from aiohttp<4.0.0,>=3.8.3->langchain) (6.0.5)\n",
      "Requirement already satisfied: pyproject_hooks in c:\\users\\dange\\desktop\\rag_database\\jenv\\lib\\site-packages (from build>=1.0.3->chromadb) (1.1.0)\n",
      "Requirement already satisfied: colorama in c:\\users\\dange\\desktop\\rag_database\\jenv\\lib\\site-packages (from build>=1.0.3->chromadb) (0.4.6)\n",
      "Requirement already satisfied: tomli>=1.1.0 in c:\\users\\dange\\desktop\\rag_database\\jenv\\lib\\site-packages (from build>=1.0.3->chromadb) (2.0.1)\n",
      "Requirement already satisfied: starlette<0.38.0,>=0.37.2 in c:\\users\\dange\\desktop\\rag_database\\jenv\\lib\\site-packages (from fastapi>=0.95.2->chromadb) (0.37.2)\n",
      "Requirement already satisfied: email_validator>=2.0.0 in c:\\users\\dange\\desktop\\rag_database\\jenv\\lib\\site-packages (from fastapi>=0.95.2->chromadb) (2.2.0)\n",
      "Requirement already satisfied: python-multipart>=0.0.7 in c:\\users\\dange\\desktop\\rag_database\\jenv\\lib\\site-packages (from fastapi>=0.95.2->chromadb) (0.0.9)\n",
      "Requirement already satisfied: jinja2>=2.11.2 in c:\\users\\dange\\desktop\\rag_database\\jenv\\lib\\site-packages (from fastapi>=0.95.2->chromadb) (3.1.4)\n",
      "Requirement already satisfied: fastapi-cli>=0.0.2 in c:\\users\\dange\\desktop\\rag_database\\jenv\\lib\\site-packages (from fastapi>=0.95.2->chromadb) (0.0.4)\n",
      "Requirement already satisfied: ujson!=4.0.2,!=4.1.0,!=4.2.0,!=4.3.0,!=5.0.0,!=5.1.0,>=4.0.1 in c:\\users\\dange\\desktop\\rag_database\\jenv\\lib\\site-packages (from fastapi>=0.95.2->chromadb) (5.10.0)\n",
      "Requirement already satisfied: anyio in c:\\users\\dange\\desktop\\rag_database\\jenv\\lib\\site-packages (from httpx>=0.27.0->chromadb) (4.4.0)\n",
      "Requirement already satisfied: certifi in c:\\users\\dange\\desktop\\rag_database\\jenv\\lib\\site-packages (from httpx>=0.27.0->chromadb) (2024.6.2)\n",
      "Requirement already satisfied: idna in c:\\users\\dange\\desktop\\rag_database\\jenv\\lib\\site-packages (from httpx>=0.27.0->chromadb) (3.7)\n",
      "Requirement already satisfied: httpcore==1.* in c:\\users\\dange\\desktop\\rag_database\\jenv\\lib\\site-packages (from httpx>=0.27.0->chromadb) (1.0.5)\n",
      "Requirement already satisfied: sniffio in c:\\users\\dange\\desktop\\rag_database\\jenv\\lib\\site-packages (from httpx>=0.27.0->chromadb) (1.3.1)\n",
      "Requirement already satisfied: h11<0.15,>=0.13 in c:\\users\\dange\\desktop\\rag_database\\jenv\\lib\\site-packages (from httpcore==1.*->httpx>=0.27.0->chromadb) (0.14.0)\n",
      "Requirement already satisfied: python-dateutil>=2.5.3 in c:\\users\\dange\\desktop\\rag_database\\jenv\\lib\\site-packages (from kubernetes>=28.1.0->chromadb) (2.9.0.post0)\n",
      "Requirement already satisfied: oauthlib>=3.2.2 in c:\\users\\dange\\desktop\\rag_database\\jenv\\lib\\site-packages (from kubernetes>=28.1.0->chromadb) (3.2.2)\n",
      "Requirement already satisfied: six>=1.9.0 in c:\\users\\dange\\desktop\\rag_database\\jenv\\lib\\site-packages (from kubernetes>=28.1.0->chromadb) (1.16.0)\n",
      "Requirement already satisfied: google-auth>=1.0.1 in c:\\users\\dange\\desktop\\rag_database\\jenv\\lib\\site-packages (from kubernetes>=28.1.0->chromadb) (2.31.0)\n",
      "Requirement already satisfied: urllib3>=1.24.2 in c:\\users\\dange\\desktop\\rag_database\\jenv\\lib\\site-packages (from kubernetes>=28.1.0->chromadb) (2.2.2)\n",
      "Requirement already satisfied: requests-oauthlib in c:\\users\\dange\\desktop\\rag_database\\jenv\\lib\\site-packages (from kubernetes>=28.1.0->chromadb) (2.0.0)\n",
      "Requirement already satisfied: websocket-client!=0.40.0,!=0.41.*,!=0.42.*,>=0.32.0 in c:\\users\\dange\\desktop\\rag_database\\jenv\\lib\\site-packages (from kubernetes>=28.1.0->chromadb) (1.8.0)\n",
      "Requirement already satisfied: jsonpatch<2.0,>=1.33 in c:\\users\\dange\\desktop\\rag_database\\jenv\\lib\\site-packages (from langchain-core<0.3.0,>=0.2.10->langchain) (1.33)\n",
      "Requirement already satisfied: coloredlogs in c:\\users\\dange\\desktop\\rag_database\\jenv\\lib\\site-packages (from onnxruntime>=1.14.1->chromadb) (15.0.1)\n",
      "Requirement already satisfied: sympy in c:\\users\\dange\\desktop\\rag_database\\jenv\\lib\\site-packages (from onnxruntime>=1.14.1->chromadb) (1.12.1)\n",
      "Requirement already satisfied: protobuf in c:\\users\\dange\\desktop\\rag_database\\jenv\\lib\\site-packages (from onnxruntime>=1.14.1->chromadb) (4.25.3)\n",
      "Requirement already satisfied: flatbuffers in c:\\users\\dange\\desktop\\rag_database\\jenv\\lib\\site-packages (from onnxruntime>=1.14.1->chromadb) (24.3.25)\n",
      "Requirement already satisfied: importlib-metadata<=7.1,>=6.0 in c:\\users\\dange\\desktop\\rag_database\\jenv\\lib\\site-packages (from opentelemetry-api>=1.2.0->chromadb) (7.1.0)\n",
      "Requirement already satisfied: deprecated>=1.2.6 in c:\\users\\dange\\desktop\\rag_database\\jenv\\lib\\site-packages (from opentelemetry-api>=1.2.0->chromadb) (1.2.14)\n",
      "Requirement already satisfied: opentelemetry-proto==1.25.0 in c:\\users\\dange\\desktop\\rag_database\\jenv\\lib\\site-packages (from opentelemetry-exporter-otlp-proto-grpc>=1.2.0->chromadb) (1.25.0)\n",
      "Requirement already satisfied: googleapis-common-protos~=1.52 in c:\\users\\dange\\desktop\\rag_database\\jenv\\lib\\site-packages (from opentelemetry-exporter-otlp-proto-grpc>=1.2.0->chromadb) (1.63.2)\n",
      "Requirement already satisfied: opentelemetry-exporter-otlp-proto-common==1.25.0 in c:\\users\\dange\\desktop\\rag_database\\jenv\\lib\\site-packages (from opentelemetry-exporter-otlp-proto-grpc>=1.2.0->chromadb) (1.25.0)\n",
      "Requirement already satisfied: opentelemetry-instrumentation==0.46b0 in c:\\users\\dange\\desktop\\rag_database\\jenv\\lib\\site-packages (from opentelemetry-instrumentation-fastapi>=0.41b0->chromadb) (0.46b0)\n",
      "Requirement already satisfied: opentelemetry-util-http==0.46b0 in c:\\users\\dange\\desktop\\rag_database\\jenv\\lib\\site-packages (from opentelemetry-instrumentation-fastapi>=0.41b0->chromadb) (0.46b0)\n",
      "Requirement already satisfied: opentelemetry-semantic-conventions==0.46b0 in c:\\users\\dange\\desktop\\rag_database\\jenv\\lib\\site-packages (from opentelemetry-instrumentation-fastapi>=0.41b0->chromadb) (0.46b0)\n",
      "Requirement already satisfied: opentelemetry-instrumentation-asgi==0.46b0 in c:\\users\\dange\\desktop\\rag_database\\jenv\\lib\\site-packages (from opentelemetry-instrumentation-fastapi>=0.41b0->chromadb) (0.46b0)\n",
      "Requirement already satisfied: wrapt<2.0.0,>=1.0.0 in c:\\users\\dange\\desktop\\rag_database\\jenv\\lib\\site-packages (from opentelemetry-instrumentation==0.46b0->opentelemetry-instrumentation-fastapi>=0.41b0->chromadb) (1.16.0)\n",
      "Requirement already satisfied: setuptools>=16.0 in c:\\users\\dange\\desktop\\rag_database\\jenv\\lib\\site-packages (from opentelemetry-instrumentation==0.46b0->opentelemetry-instrumentation-fastapi>=0.41b0->chromadb) (63.2.0)\n",
      "Requirement already satisfied: asgiref~=3.0 in c:\\users\\dange\\desktop\\rag_database\\jenv\\lib\\site-packages (from opentelemetry-instrumentation-asgi==0.46b0->opentelemetry-instrumentation-fastapi>=0.41b0->chromadb) (3.8.1)\n",
      "Requirement already satisfied: backoff>=1.10.0 in c:\\users\\dange\\desktop\\rag_database\\jenv\\lib\\site-packages (from posthog>=2.4.0->chromadb) (2.2.1)\n",
      "Requirement already satisfied: monotonic>=1.5 in c:\\users\\dange\\desktop\\rag_database\\jenv\\lib\\site-packages (from posthog>=2.4.0->chromadb) (1.6)\n",
      "Requirement already satisfied: pydantic-core==2.20.0 in c:\\users\\dange\\desktop\\rag_database\\jenv\\lib\\site-packages (from pydantic<3,>=1->langchain) (2.20.0)\n",
      "Requirement already satisfied: annotated-types>=0.4.0 in c:\\users\\dange\\desktop\\rag_database\\jenv\\lib\\site-packages (from pydantic<3,>=1->langchain) (0.7.0)\n",
      "Requirement already satisfied: charset-normalizer<4,>=2 in c:\\users\\dange\\desktop\\rag_database\\jenv\\lib\\site-packages (from requests<3,>=2->langchain) (3.3.2)\n",
      "Requirement already satisfied: greenlet!=0.4.17 in c:\\users\\dange\\desktop\\rag_database\\jenv\\lib\\site-packages (from SQLAlchemy<3,>=1.4->langchain) (3.0.3)\n",
      "Requirement already satisfied: networkx in c:\\users\\dange\\desktop\\rag_database\\jenv\\lib\\site-packages (from torch>=1.11.0->sentence-transformers) (3.3)\n",
      "Requirement already satisfied: mkl<=2021.4.0,>=2021.1.1 in c:\\users\\dange\\desktop\\rag_database\\jenv\\lib\\site-packages (from torch>=1.11.0->sentence-transformers) (2021.4.0)\n",
      "Requirement already satisfied: safetensors>=0.4.1 in c:\\users\\dange\\desktop\\rag_database\\jenv\\lib\\site-packages (from transformers<5.0.0,>=4.34.0->sentence-transformers) (0.4.3)\n",
      "Requirement already satisfied: regex!=2019.12.17 in c:\\users\\dange\\desktop\\rag_database\\jenv\\lib\\site-packages (from transformers<5.0.0,>=4.34.0->sentence-transformers) (2024.5.15)\n",
      "Requirement already satisfied: click>=8.0.0 in c:\\users\\dange\\desktop\\rag_database\\jenv\\lib\\site-packages (from typer>=0.9.0->chromadb) (8.1.7)\n",
      "Requirement already satisfied: rich>=10.11.0 in c:\\users\\dange\\desktop\\rag_database\\jenv\\lib\\site-packages (from typer>=0.9.0->chromadb) (13.7.1)\n",
      "Requirement already satisfied: shellingham>=1.3.0 in c:\\users\\dange\\desktop\\rag_database\\jenv\\lib\\site-packages (from typer>=0.9.0->chromadb) (1.5.4)\n",
      "Requirement already satisfied: watchfiles>=0.13 in c:\\users\\dange\\desktop\\rag_database\\jenv\\lib\\site-packages (from uvicorn[standard]>=0.18.3->chromadb) (0.22.0)\n",
      "Requirement already satisfied: python-dotenv>=0.13 in c:\\users\\dange\\desktop\\rag_database\\jenv\\lib\\site-packages (from uvicorn[standard]>=0.18.3->chromadb) (1.0.1)\n",
      "Requirement already satisfied: httptools>=0.5.0 in c:\\users\\dange\\desktop\\rag_database\\jenv\\lib\\site-packages (from uvicorn[standard]>=0.18.3->chromadb) (0.6.1)\n",
      "Requirement already satisfied: websockets>=10.4 in c:\\users\\dange\\desktop\\rag_database\\jenv\\lib\\site-packages (from uvicorn[standard]>=0.18.3->chromadb) (12.0)\n",
      "Requirement already satisfied: threadpoolctl>=3.1.0 in c:\\users\\dange\\desktop\\rag_database\\jenv\\lib\\site-packages (from scikit-learn->sentence-transformers) (3.5.0)\n",
      "Requirement already satisfied: joblib>=1.2.0 in c:\\users\\dange\\desktop\\rag_database\\jenv\\lib\\site-packages (from scikit-learn->sentence-transformers) (1.4.2)\n",
      "Requirement already satisfied: dnspython>=2.0.0 in c:\\users\\dange\\desktop\\rag_database\\jenv\\lib\\site-packages (from email_validator>=2.0.0->fastapi>=0.95.2->chromadb) (2.6.1)\n",
      "Requirement already satisfied: cachetools<6.0,>=2.0.0 in c:\\users\\dange\\desktop\\rag_database\\jenv\\lib\\site-packages (from google-auth>=1.0.1->kubernetes>=28.1.0->chromadb) (5.3.3)\n",
      "Requirement already satisfied: rsa<5,>=3.1.4 in c:\\users\\dange\\desktop\\rag_database\\jenv\\lib\\site-packages (from google-auth>=1.0.1->kubernetes>=28.1.0->chromadb) (4.9)\n",
      "Requirement already satisfied: pyasn1-modules>=0.2.1 in c:\\users\\dange\\desktop\\rag_database\\jenv\\lib\\site-packages (from google-auth>=1.0.1->kubernetes>=28.1.0->chromadb) (0.4.0)\n",
      "Requirement already satisfied: zipp>=0.5 in c:\\users\\dange\\desktop\\rag_database\\jenv\\lib\\site-packages (from importlib-metadata<=7.1,>=6.0->opentelemetry-api>=1.2.0->chromadb) (3.19.2)\n",
      "Requirement already satisfied: MarkupSafe>=2.0 in c:\\users\\dange\\desktop\\rag_database\\jenv\\lib\\site-packages (from jinja2>=2.11.2->fastapi>=0.95.2->chromadb) (2.1.5)\n",
      "Requirement already satisfied: jsonpointer>=1.9 in c:\\users\\dange\\desktop\\rag_database\\jenv\\lib\\site-packages (from jsonpatch<2.0,>=1.33->langchain-core<0.3.0,>=0.2.10->langchain) (3.0.0)\n",
      "Requirement already satisfied: tbb==2021.* in c:\\users\\dange\\desktop\\rag_database\\jenv\\lib\\site-packages (from mkl<=2021.4.0,>=2021.1.1->torch>=1.11.0->sentence-transformers) (2021.13.0)\n",
      "Requirement already satisfied: intel-openmp==2021.* in c:\\users\\dange\\desktop\\rag_database\\jenv\\lib\\site-packages (from mkl<=2021.4.0,>=2021.1.1->torch>=1.11.0->sentence-transformers) (2021.4.0)\n",
      "Requirement already satisfied: markdown-it-py>=2.2.0 in c:\\users\\dange\\desktop\\rag_database\\jenv\\lib\\site-packages (from rich>=10.11.0->typer>=0.9.0->chromadb) (3.0.0)\n",
      "Requirement already satisfied: pygments<3.0.0,>=2.13.0 in c:\\users\\dange\\desktop\\rag_database\\jenv\\lib\\site-packages (from rich>=10.11.0->typer>=0.9.0->chromadb) (2.18.0)\n",
      "Requirement already satisfied: exceptiongroup>=1.0.2 in c:\\users\\dange\\desktop\\rag_database\\jenv\\lib\\site-packages (from anyio->httpx>=0.27.0->chromadb) (1.2.1)\n",
      "Requirement already satisfied: humanfriendly>=9.1 in c:\\users\\dange\\desktop\\rag_database\\jenv\\lib\\site-packages (from coloredlogs->onnxruntime>=1.14.1->chromadb) (10.0)\n",
      "Requirement already satisfied: mpmath<1.4.0,>=1.1.0 in c:\\users\\dange\\desktop\\rag_database\\jenv\\lib\\site-packages (from sympy->onnxruntime>=1.14.1->chromadb) (1.3.0)\n",
      "Requirement already satisfied: pyreadline3 in c:\\users\\dange\\desktop\\rag_database\\jenv\\lib\\site-packages (from humanfriendly>=9.1->coloredlogs->onnxruntime>=1.14.1->chromadb) (3.4.1)\n",
      "Requirement already satisfied: mdurl~=0.1 in c:\\users\\dange\\desktop\\rag_database\\jenv\\lib\\site-packages (from markdown-it-py>=2.2.0->rich>=10.11.0->typer>=0.9.0->chromadb) (0.1.2)\n",
      "Requirement already satisfied: pyasn1<0.7.0,>=0.4.6 in c:\\users\\dange\\desktop\\rag_database\\jenv\\lib\\site-packages (from pyasn1-modules>=0.2.1->google-auth>=1.0.1->kubernetes>=28.1.0->chromadb) (0.6.0)\n"
     ]
    },
    {
     "name": "stderr",
     "output_type": "stream",
     "text": [
      "\n",
      "[notice] A new release of pip available: 22.2.2 -> 24.1.1\n",
      "[notice] To update, run: python.exe -m pip install --upgrade pip\n"
     ]
    }
   ],
   "source": [
    "!pip install langchain\n",
    "!pip install chromadb\n",
    "!pip install ctransformers\n",
    "!pip install pypdf2\n",
    "!pip install langchain chromadb ctransformers pypdf2 sentence-transformers huggingface-hub\n"
   ]
  },
  {
   "cell_type": "code",
   "execution_count": 13,
   "id": "967a50b9",
   "metadata": {},
   "outputs": [
    {
     "name": "stderr",
     "output_type": "stream",
     "text": [
      "\n",
      "[notice] A new release of pip available: 22.2.2 -> 24.1.1\n",
      "[notice] To update, run: python.exe -m pip install --upgrade pip\n"
     ]
    },
    {
     "name": "stdout",
     "output_type": "stream",
     "text": [
      "Collecting pypdf\n",
      "  Using cached pypdf-4.2.0-py3-none-any.whl (290 kB)\n",
      "Requirement already satisfied: typing_extensions>=4.0 in c:\\users\\dange\\desktop\\rag_database\\jenv\\lib\\site-packages (from pypdf) (4.12.2)\n",
      "Installing collected packages: pypdf\n",
      "Successfully installed pypdf-4.2.0\n"
     ]
    }
   ],
   "source": [
    "!pip install pypdf\n",
    "import pypdf\n",
    "#Extract data from the PDF\n",
    "def load_pdf(data):\n",
    "    loader = DirectoryLoader(data,\n",
    "                    glob=\"*.pdf\",\n",
    "                    loader_cls=PyPDFLoader)\n",
    "    \n",
    "    documents = loader.load()\n",
    "\n",
    "    return documents"
   ]
  },
  {
   "cell_type": "code",
   "execution_count": 14,
   "id": "f4182ce5",
   "metadata": {},
   "outputs": [],
   "source": [
    "extracted_data = load_pdf(\"../data/\")"
   ]
  },
  {
   "cell_type": "code",
   "execution_count": 15,
   "id": "7d222aa7",
   "metadata": {},
   "outputs": [],
   "source": [
    "#Create text chunks\n",
    "def text_split(extracted_data):\n",
    "    text_splitter = RecursiveCharacterTextSplitter(separators = [\"\\n\\n\",\"\\n\",\".\",\" \"], chunk_size = 1000, chunk_overlap = 20)\n",
    "    text_chunks = text_splitter.split_documents(extracted_data)\n",
    "\n",
    "    return text_chunks"
   ]
  },
  {
   "cell_type": "code",
   "execution_count": 16,
   "id": "48119228",
   "metadata": {},
   "outputs": [
    {
     "name": "stdout",
     "output_type": "stream",
     "text": [
      "length of my chunk: 2827\n"
     ]
    }
   ],
   "source": [
    "text_chunks = text_split(extracted_data)\n",
    "print(\"length of my chunk:\", len(text_chunks))"
   ]
  },
  {
   "cell_type": "code",
   "execution_count": 2,
   "id": "8e12b2d2",
   "metadata": {},
   "outputs": [],
   "source": [
    "#download embedding model\n",
    "def download_hugging_face_embeddings():\n",
    "    embeddings = HuggingFaceEmbeddings(model_name=\"sentence-transformers/all-MiniLM-L6-v2\")\n",
    "    return embeddings"
   ]
  },
  {
   "cell_type": "code",
   "execution_count": 3,
   "id": "d0622315",
   "metadata": {},
   "outputs": [
    {
     "name": "stderr",
     "output_type": "stream",
     "text": [
      "\n",
      "[notice] A new release of pip available: 22.2.2 -> 24.1.1\n",
      "[notice] To update, run: python.exe -m pip install --upgrade pip\n"
     ]
    },
    {
     "name": "stdout",
     "output_type": "stream",
     "text": [
      "Collecting sentence-transformers\n",
      "  Using cached sentence_transformers-3.0.1-py3-none-any.whl (227 kB)\n",
      "Collecting numpy\n",
      "  Downloading numpy-2.0.0-cp310-cp310-win_amd64.whl (16.5 MB)\n",
      "     --------------------------------------- 16.5/16.5 MB 25.2 MB/s eta 0:00:00\n",
      "Collecting torch>=1.11.0\n",
      "  Downloading torch-2.3.1-cp310-cp310-win_amd64.whl (159.8 MB)\n",
      "     -------------------------------------- 159.8/159.8 MB 9.2 MB/s eta 0:00:00\n",
      "Collecting scipy\n",
      "  Using cached scipy-1.14.0-cp310-cp310-win_amd64.whl (44.8 MB)\n",
      "Collecting tqdm\n",
      "  Using cached tqdm-4.66.4-py3-none-any.whl (78 kB)\n",
      "Collecting Pillow\n",
      "  Using cached pillow-10.4.0-cp310-cp310-win_amd64.whl (2.6 MB)\n",
      "Collecting scikit-learn\n",
      "  Using cached scikit_learn-1.5.0-cp310-cp310-win_amd64.whl (11.0 MB)\n",
      "Collecting huggingface-hub>=0.15.1\n",
      "  Using cached huggingface_hub-0.23.4-py3-none-any.whl (402 kB)\n",
      "Collecting transformers<5.0.0,>=4.34.0\n",
      "  Using cached transformers-4.42.3-py3-none-any.whl (9.3 MB)\n",
      "Requirement already satisfied: packaging>=20.9 in c:\\users\\dange\\desktop\\rag_database\\jenv\\lib\\site-packages (from huggingface-hub>=0.15.1->sentence-transformers) (24.1)\n",
      "Requirement already satisfied: typing-extensions>=3.7.4.3 in c:\\users\\dange\\desktop\\rag_database\\jenv\\lib\\site-packages (from huggingface-hub>=0.15.1->sentence-transformers) (4.12.2)\n",
      "Collecting requests\n",
      "  Using cached requests-2.32.3-py3-none-any.whl (64 kB)\n",
      "Collecting filelock\n",
      "  Using cached filelock-3.15.4-py3-none-any.whl (16 kB)\n",
      "Collecting fsspec>=2023.5.0\n",
      "  Using cached fsspec-2024.6.1-py3-none-any.whl (177 kB)\n",
      "Collecting pyyaml>=5.1\n",
      "  Using cached PyYAML-6.0.1-cp310-cp310-win_amd64.whl (145 kB)\n",
      "Collecting jinja2\n",
      "  Using cached jinja2-3.1.4-py3-none-any.whl (133 kB)\n",
      "Collecting mkl<=2021.4.0,>=2021.1.1\n",
      "  Downloading mkl-2021.4.0-py2.py3-none-win_amd64.whl (228.5 MB)\n",
      "     -------------------------------------- 228.5/228.5 MB 6.8 MB/s eta 0:00:00\n",
      "Collecting sympy\n",
      "  Using cached sympy-1.12.1-py3-none-any.whl (5.7 MB)\n",
      "Collecting networkx\n",
      "  Using cached networkx-3.3-py3-none-any.whl (1.7 MB)\n",
      "Requirement already satisfied: colorama in c:\\users\\dange\\desktop\\rag_database\\jenv\\lib\\site-packages (from tqdm->sentence-transformers) (0.4.6)\n",
      "Collecting tokenizers<0.20,>=0.19\n",
      "  Using cached tokenizers-0.19.1-cp310-none-win_amd64.whl (2.2 MB)\n",
      "Collecting safetensors>=0.4.1\n",
      "  Using cached safetensors-0.4.3-cp310-none-win_amd64.whl (287 kB)\n",
      "Collecting numpy\n",
      "  Using cached numpy-1.26.4-cp310-cp310-win_amd64.whl (15.8 MB)\n",
      "Collecting regex!=2019.12.17\n",
      "  Using cached regex-2024.5.15-cp310-cp310-win_amd64.whl (268 kB)\n",
      "Collecting threadpoolctl>=3.1.0\n",
      "  Using cached threadpoolctl-3.5.0-py3-none-any.whl (18 kB)\n",
      "Collecting joblib>=1.2.0\n",
      "  Using cached joblib-1.4.2-py3-none-any.whl (301 kB)\n",
      "Collecting tbb==2021.*\n",
      "  Downloading tbb-2021.13.0-py3-none-win_amd64.whl (286 kB)\n",
      "     ------------------------------------- 286.9/286.9 kB 17.3 MB/s eta 0:00:00\n",
      "Collecting intel-openmp==2021.*\n",
      "  Downloading intel_openmp-2021.4.0-py2.py3-none-win_amd64.whl (3.5 MB)\n",
      "     ---------------------------------------- 3.5/3.5 MB 31.9 MB/s eta 0:00:00\n",
      "Collecting MarkupSafe>=2.0\n",
      "  Using cached MarkupSafe-2.1.5-cp310-cp310-win_amd64.whl (17 kB)\n",
      "Collecting charset-normalizer<4,>=2\n",
      "  Using cached charset_normalizer-3.3.2-cp310-cp310-win_amd64.whl (100 kB)\n",
      "Collecting urllib3<3,>=1.21.1\n",
      "  Using cached urllib3-2.2.2-py3-none-any.whl (121 kB)\n",
      "Collecting idna<4,>=2.5\n",
      "  Using cached idna-3.7-py3-none-any.whl (66 kB)\n",
      "Collecting certifi>=2017.4.17\n",
      "  Using cached certifi-2024.6.2-py3-none-any.whl (164 kB)\n",
      "Collecting mpmath<1.4.0,>=1.1.0\n",
      "  Using cached mpmath-1.3.0-py3-none-any.whl (536 kB)\n",
      "Installing collected packages: tbb, mpmath, intel-openmp, urllib3, tqdm, threadpoolctl, sympy, safetensors, regex, pyyaml, Pillow, numpy, networkx, mkl, MarkupSafe, joblib, idna, fsspec, filelock, charset-normalizer, certifi, scipy, requests, jinja2, torch, scikit-learn, huggingface-hub, tokenizers, transformers, sentence-transformers\n",
      "Successfully installed MarkupSafe-2.1.5 Pillow-10.4.0 certifi-2024.6.2 charset-normalizer-3.3.2 filelock-3.15.4 fsspec-2024.6.1 huggingface-hub-0.23.4 idna-3.7 intel-openmp-2021.4.0 jinja2-3.1.4 joblib-1.4.2 mkl-2021.4.0 mpmath-1.3.0 networkx-3.3 numpy-1.26.4 pyyaml-6.0.1 regex-2024.5.15 requests-2.32.3 safetensors-0.4.3 scikit-learn-1.5.0 scipy-1.14.0 sentence-transformers-3.0.1 sympy-1.12.1 tbb-2021.13.0 threadpoolctl-3.5.0 tokenizers-0.19.1 torch-2.3.1 tqdm-4.66.4 transformers-4.42.3 urllib3-2.2.2\n"
     ]
    },
    {
     "name": "stderr",
     "output_type": "stream",
     "text": [
      "c:\\Users\\dange\\Desktop\\rag_database\\jenv\\lib\\site-packages\\sentence_transformers\\cross_encoder\\CrossEncoder.py:11: TqdmWarning: IProgress not found. Please update jupyter and ipywidgets. See https://ipywidgets.readthedocs.io/en/stable/user_install.html\n",
      "  from tqdm.autonotebook import tqdm, trange\n"
     ]
    }
   ],
   "source": [
    "!pip install sentence-transformers\n",
    "import sentence_transformers\n",
    "\n"
   ]
  },
  {
   "cell_type": "code",
   "execution_count": 3,
   "id": "069b8ef2",
   "metadata": {},
   "outputs": [
    {
     "name": "stderr",
     "output_type": "stream",
     "text": [
      "c:\\Users\\dange\\Desktop\\rag_database\\jenv\\lib\\site-packages\\langchain_core\\_api\\deprecation.py:139: LangChainDeprecationWarning: The class `HuggingFaceEmbeddings` was deprecated in LangChain 0.2.2 and will be removed in 0.3.0. An updated version of the class exists in the langchain-huggingface package and should be used instead. To use it run `pip install -U langchain-huggingface` and import as `from langchain_huggingface import HuggingFaceEmbeddings`.\n",
      "  warn_deprecated(\n",
      "c:\\Users\\dange\\Desktop\\rag_database\\jenv\\lib\\site-packages\\sentence_transformers\\cross_encoder\\CrossEncoder.py:11: TqdmWarning: IProgress not found. Please update jupyter and ipywidgets. See https://ipywidgets.readthedocs.io/en/stable/user_install.html\n",
      "  from tqdm.autonotebook import tqdm, trange\n"
     ]
    }
   ],
   "source": [
    "embeddings = download_hugging_face_embeddings()"
   ]
  },
  {
   "cell_type": "code",
   "execution_count": 4,
   "id": "a87308ee",
   "metadata": {},
   "outputs": [],
   "source": [
    "persist_directory = 'dbase'"
   ]
  },
  {
   "cell_type": "code",
   "execution_count": 19,
   "id": "bfed0ba5",
   "metadata": {},
   "outputs": [],
   "source": [
    "persist_directory = 'dbase'\n",
    "vectordb = Chroma.from_documents(documents=text_chunks,\n",
    "                                 embedding=embeddings,\n",
    "                                 persist_directory=persist_directory)"
   ]
  },
  {
   "cell_type": "code",
   "execution_count": 20,
   "id": "af19275e",
   "metadata": {},
   "outputs": [
    {
     "name": "stderr",
     "output_type": "stream",
     "text": [
      "c:\\Users\\dange\\Desktop\\rag_database\\jenv\\lib\\site-packages\\langchain_core\\_api\\deprecation.py:139: LangChainDeprecationWarning: Since Chroma 0.4.x the manual persistence method is no longer supported as docs are automatically persisted.\n",
      "  warn_deprecated(\n"
     ]
    }
   ],
   "source": [
    "# persiste the dbase to disk\n",
    "vectordb.persist()\n",
    "vectordb = None"
   ]
  },
  {
   "cell_type": "code",
   "execution_count": 6,
   "id": "ccaefc65",
   "metadata": {},
   "outputs": [],
   "source": [
    "vectordb = Chroma(persist_directory=persist_directory,\n",
    "                  embedding_function=embeddings)"
   ]
  },
  {
   "cell_type": "code",
   "execution_count": 7,
   "id": "76c14650",
   "metadata": {},
   "outputs": [],
   "source": [
    "retriever = vectordb.as_retriever(search_kwargs={'k': 1}) "
   ]
  },
  {
   "cell_type": "code",
   "execution_count": 8,
   "id": "53319bfa",
   "metadata": {},
   "outputs": [
    {
     "name": "stderr",
     "output_type": "stream",
     "text": [
      "c:\\Users\\dange\\Desktop\\rag_database\\jenv\\lib\\site-packages\\langchain_core\\_api\\deprecation.py:139: LangChainDeprecationWarning: The method `BaseRetriever.get_relevant_documents` was deprecated in langchain-core 0.1.46 and will be removed in 0.3.0. Use invoke instead.\n",
      "  warn_deprecated(\n"
     ]
    }
   ],
   "source": [
    "docs = retriever.get_relevant_documents(\"What is machine learning?\")"
   ]
  },
  {
   "cell_type": "code",
   "execution_count": 9,
   "id": "1bc4d03d",
   "metadata": {},
   "outputs": [
    {
     "data": {
      "text/plain": [
       "[Document(page_content='Chapter 11. Machine Learning\\nI am always r eady to learn although I do not always like being taught.\\n— W inston Churchill\\nMany people imagine that data science is mostly machine learning and that\\ndata scientists mostly build and train and tweak machine learning models all\\nday long. (Then again, many of those people don’ t actually know what\\nmachine learning is .) In fact, data science is mostly turning business\\nproblems into data problems and collecting data and understanding data and\\ncleaning data and formatting data, after which machine learning is almost\\nan afterthought. Even so, it’ s an interesting and essential afterthought that\\nyou pretty much have to know about in order to do data science.\\nM o d e l i n g\\nBefore  we can talk about machine learning, we need to talk about models .\\nWhat is a model? It’ s simply a specification of a mathematical (or\\nprobabilistic) relationship that exists between dif ferent variables.', metadata={'page': 202, 'source': '..\\\\data\\\\Data-Science-from-Scratch-First-Principles-with-Python-by-Joel-Grus-z-lib.org_.epub_.pdf'})]"
      ]
     },
     "execution_count": 9,
     "metadata": {},
     "output_type": "execute_result"
    }
   ],
   "source": [
    "docs"
   ]
  },
  {
   "cell_type": "code",
   "execution_count": 10,
   "id": "2733f469",
   "metadata": {},
   "outputs": [],
   "source": [
    "prompt_template=\"\"\"\n",
    "Use the following pieces of information to answer the user's question.\n",
    "If you don't know the answer, just say that you don't know, don't try to make up an answer.\n",
    "Give answer within the limit of 300 words.\n",
    "\n",
    "Context: {context}\n",
    "Question: {question}\n",
    "\n",
    "Only return the helpful answer below and nothing else.\n",
    "Helpful answer:\n",
    "\"\"\""
   ]
  },
  {
   "cell_type": "code",
   "execution_count": 11,
   "id": "f5adf34a",
   "metadata": {},
   "outputs": [],
   "source": [
    "PROMPT=PromptTemplate(template=prompt_template, input_variables=[\"context\", \"question\"])\n",
    "chain_type_kwargs={\"prompt\": PROMPT}"
   ]
  },
  {
   "cell_type": "code",
   "execution_count": 12,
   "id": "6f60c7b7",
   "metadata": {},
   "outputs": [],
   "source": [
    "llm=CTransformers(model=\"../model/llama-2-7b-chat.ggmlv3.q4_0.bin\",\n",
    "                  model_type=\"llama\",\n",
    "                  config={'max_new_tokens':512,\n",
    "                          'temperature':0})"
   ]
  },
  {
   "cell_type": "code",
   "execution_count": 13,
   "id": "1f892317",
   "metadata": {},
   "outputs": [],
   "source": [
    "qa=RetrievalQA.from_chain_type(\n",
    "    llm=llm, \n",
    "    chain_type=\"stuff\", \n",
    "    retriever=retriever,\n",
    "    return_source_documents=True, \n",
    "    chain_type_kwargs=chain_type_kwargs)"
   ]
  },
  {
   "cell_type": "code",
   "execution_count": 14,
   "id": "a5823002",
   "metadata": {},
   "outputs": [
    {
     "name": "stderr",
     "output_type": "stream",
     "text": [
      "c:\\Users\\dange\\Desktop\\rag_database\\jenv\\lib\\site-packages\\langchain_core\\_api\\deprecation.py:139: LangChainDeprecationWarning: The method `Chain.__call__` was deprecated in langchain 0.1.0 and will be removed in 0.3.0. Use invoke instead.\n",
      "  warn_deprecated(\n"
     ]
    }
   ],
   "source": [
    "result = qa({'query': \"What is machine learning?\"})"
   ]
  },
  {
   "cell_type": "code",
   "execution_count": 15,
   "id": "c7eadb05",
   "metadata": {},
   "outputs": [
    {
     "data": {
      "text/plain": [
       "{'query': 'What is machine learning?',\n",
       " 'result': 'Machine learning is a subfield of artificial intelligence (AI) that involves using algorithms to analyze and learn patterns in data, and make predictions or decisions based on that data. It involves training models on large datasets, and adjusting the models as needed to improve their performance over time. The goal of machine learning is to enable machines to learn from experience and improve their performance on a task without being explicitly programmed for that task.',\n",
       " 'source_documents': [Document(page_content='Chapter 11. Machine Learning\\nI am always r eady to learn although I do not always like being taught.\\n— W inston Churchill\\nMany people imagine that data science is mostly machine learning and that\\ndata scientists mostly build and train and tweak machine learning models all\\nday long. (Then again, many of those people don’ t actually know what\\nmachine learning is .) In fact, data science is mostly turning business\\nproblems into data problems and collecting data and understanding data and\\ncleaning data and formatting data, after which machine learning is almost\\nan afterthought. Even so, it’ s an interesting and essential afterthought that\\nyou pretty much have to know about in order to do data science.\\nM o d e l i n g\\nBefore  we can talk about machine learning, we need to talk about models .\\nWhat is a model? It’ s simply a specification of a mathematical (or\\nprobabilistic) relationship that exists between dif ferent variables.', metadata={'page': 202, 'source': '..\\\\data\\\\Data-Science-from-Scratch-First-Principles-with-Python-by-Joel-Grus-z-lib.org_.epub_.pdf'})]}"
      ]
     },
     "execution_count": 15,
     "metadata": {},
     "output_type": "execute_result"
    }
   ],
   "source": [
    "result"
   ]
  },
  {
   "cell_type": "code",
   "execution_count": null,
   "id": "569f97d8",
   "metadata": {},
   "outputs": [],
   "source": [
    "\n",
    "while True:\n",
    "    user_input=input(f\"Input Prompt:\")\n",
    "    result=qa({\"query\": user_input})\n",
    "    print(\"Response : \", result[\"result\"])"
   ]
  },
  {
   "cell_type": "code",
   "execution_count": null,
   "id": "9afcfa98",
   "metadata": {},
   "outputs": [],
   "source": []
  }
 ],
 "metadata": {
  "kernelspec": {
   "display_name": "env",
   "language": "python",
   "name": "python3"
  },
  "language_info": {
   "codemirror_mode": {
    "name": "ipython",
    "version": 3
   },
   "file_extension": ".py",
   "mimetype": "text/x-python",
   "name": "python",
   "nbconvert_exporter": "python",
   "pygments_lexer": "ipython3",
   "version": "3.10.7"
  }
 },
 "nbformat": 4,
 "nbformat_minor": 5
}
